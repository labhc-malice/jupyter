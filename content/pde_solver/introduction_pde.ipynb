{
 "cells": [
  {
   "cell_type": "markdown",
   "id": "f3cb203a",
   "metadata": {},
   "source": [
    "**Auteurs:**\n",
    "- Christiane Manuela Ayo Ndazoo\n",
    "- Fayad Ali Banna"
   ]
  },
  {
   "cell_type": "markdown",
   "id": "XummlCVRXhye",
   "metadata": {
    "id": "XummlCVRXhye"
   },
   "source": [
    "### Rappels\n",
    "\n",
    "#### Équation Différentielle Partielle(EDP)\n",
    "\n",
    "**Définition** :\n",
    "Équation mathématique décrivant un phénomène physique spatiotemporel. \n",
    "\n",
    "**Exemple** :  \n",
    "Équation de la chaleur définie par :    \n",
    "$$ \\frac{\\partial u}{\\partial t} = \\mathcal{D}\\frac{\\partial^{2} u}{\\partial x^{2}} $$\n",
    "\n",
    "avec :\n",
    "\n",
    "\n",
    "*   u : variable dépendant du temps t et de la coordonnée x de l'espace\n",
    "*   x : variable indépendante représentant une coordonnée de l'espace\n",
    "* t : variable indépendante représentant le temps\n",
    "* $\\mathcal{D}$ : constante réelle positive\n",
    "\n",
    "**NB :**\n",
    "Une équation différentielle ne contenant qu'une variable indépendante est appelée **équation différentielle ordinaire(EDO)**\n",
    "\n",
    "**Ordre d'une équation différentielle** :\n",
    "Il s'agit de l'ordre le plus grand de la dérivée qu'il contient. Dans notre cas, l'ordre est ...\n",
    "\n",
    "**Degré d'une équation différentielle** :    \n",
    "Degré de la dérivée la plus élevée. Dans notre cas, le degré est ..."
   ]
  },
  {
   "cell_type": "markdown",
   "id": "3A1cjI6Sdhis",
   "metadata": {
    "id": "3A1cjI6Sdhis"
   },
   "source": [
    "### Conditions initiales et conditions aux bords\n",
    "\n",
    "Pour bien définir une EDP, on a besoin de certaines conditions "
   ]
  },
  {
   "cell_type": "markdown",
   "id": "LkU0UlQpe1lb",
   "metadata": {
    "id": "LkU0UlQpe1lb"
   },
   "source": [
    "#### Conditions Initiales\n",
    "\n",
    "t est appelée **variable de valeur initiale** et nécessite donc une **condition initiale (CI)**. Il s'agit d'une variable de valeur initiale car elle part d'une valeur initiale, **t0** , et avance sur un intervalle fini t0≤t≤tf ou un intervalle semi-infini t0≤t≤∞ sans qu'aucune condition supplémentaire ne soit imposée. \n",
    "\n",
    "Ex : $$ u(x, t=0) = u_0 $$ \n",
    "avec $u_{0}$ une fonction donnée\n",
    "\n",
    "La condition initiale est donc la condition à l'origine des temps. \n",
    "\n",
    "#### Conditions aux bords\n",
    "\n",
    "Il s'agit d'une équation qui spécifie le comportement de la solution d'un système d'équations différentielles à la limite de son domaine ou espace.\n",
    "\n",
    "Ex : $$u(x=x_0, t) = u_b \\ (Dirichlet)$$\n",
    "\n",
    "$$u'(x) = f \\ (Neumann)$$\n",
    "     \n",
    "On distingue 03 types de conditions aux bords : \n",
    "* les conditions de Dirichlet de la forme $$u = f $$ avec f une fonction connue\n",
    "* les conditions de Neumann de la forme $$u' = f$$ qui spécifient les valeurs de la dérivée aux bornes du domaine\n",
    "* les conditions de Robin qui font apparaitre la variable dépendante et les dérivées sous la forme $$au + bu' = g$$"
   ]
  },
  {
   "cell_type": "markdown",
   "id": "9rtBbaBNm4kl",
   "metadata": {
    "id": "9rtBbaBNm4kl"
   },
   "source": [
    "## Méthodes de résolution des EDP\n",
    "\n",
    "  Il est important de mentionner qu'il existe principalement 02 types de solutions aux EDP :\n",
    "  * celles dites **analytiques** qui s'écrivent comme des formules mathématiques et qui sont donc très générales mais aussi difficiles à trouver\n",
    "  * celles dites **numériques** qui sont une approximation de la solution analytique que l'on ne connait pas\n",
    "\n",
    "  Les méthodes développées dans la suite sont des méthodes permettant de trouver des solutions numériques"
   ]
  },
  {
   "cell_type": "markdown",
   "id": "Y35zqGKQWVCK",
   "metadata": {
    "id": "Y35zqGKQWVCK"
   },
   "source": [
    "### Consistance, stabilité et convergence\n",
    "\n",
    "La **consistance** est une condition du schéma numérique, à savoir que le\n",
    "schéma doit tendre vers l'équation différentielle, lorsque les pas de temps et d'espace tendent\n",
    "vers zéro.\n",
    "\n",
    "La **stabilité** est une exigence pour la solution numérique, ce qui signifie que toute erreur, comme celles causées par une précision limitée dans l'arithmétique informatique, doit rester dans les limites pendant que le processus d'itération se poursuit. En d'autres termes, lorsque nous avons des valeurs finies pour le temps (dt) et l'espace (dx), l'erreur (la différence entre la solution numérique et la solution exacte de la méthode numérique) ne devrait pas croître sans limite comme le nombre de pas de temps ( n) augmente indéfiniment.\n",
    "\n",
    "La **convergence** est une condition sur la solution numérique : nous devons être sûrs que\n",
    "la sortie de la simulation est une représentation correcte du modèle que nous résolvons,\n",
    "c'est-à-dire que la solution numérique doit tendre vers la solution exacte du problème mathématique modélisé, lorsque les pas de temps et d'espace tendent vers zéro\n",
    "\n",
    "**Théorème d'équivalence de Lax :** Pour un problème de valeur initiale bien posé et un\n",
    "schéma de discrétisation consistant, la stabilité est la condition nécessaire et suffisante\n",
    "pour la convergence."
   ]
  },
  {
   "cell_type": "markdown",
   "id": "76896d44",
   "metadata": {
    "id": "76896d44"
   },
   "source": [
    "### Méthode des différences finies"
   ]
  },
  {
   "cell_type": "markdown",
   "id": "sFbOY7NqYRLP",
   "metadata": {
    "id": "sFbOY7NqYRLP"
   },
   "source": [
    "La méthode des différences finies est une technique numérique utilisée pour approximer les solutions d'équations aux dérivées partielles (EDP). Au lieu de calculer directement les dérivées, nous utilisons des approximations de différence pour obtenir une approximation numérique des dérivées exactes. La méthode nécessite de discrétiser le domaine continu de l'EDP en une grille de points pour résoudre facilement le problème.\n",
    "\n",
    "L'expression de la dérivée à tout ordre est obtenue en calculant le développement en série de Taylor:\n",
    "\n",
    "Soit u une fonction n + 1 fois dérivable sur un intervalle ouvert I et x $\\in$ I. Alors quel que soit h, tel que x + h $\\in$ I\n",
    "\n",
    "$$u(x + h) = \\sum_{n=0}^{\\infty} \\frac{h^n}{n!}u^{(n)}(x)\n",
    " = u(x) + hu'(x) + \\frac{h^2}{2}u''(x) + \\frac{h^3}{6}u'''(x) + ...$$\n",
    "\n",
    " La dérivée première d'une fonction u(x) en un point x est approximée par :\n",
    "\n",
    "$u'(x) \\approx \\frac{u(x + \\Delta x) - u(x)}{\\Delta x} $ (Différence avant)\n",
    "\n",
    "$u'(x) \\approx \\frac{u(x) - u(x - \\Delta x)}{\\Delta x} $  (Différence arrière)\n",
    "\n",
    "$u'(x) \\approx \\frac{u(x + \\Delta x) - u(x - \\Delta x)}{2\\Delta x} $  (Différence centrale)\n",
    "\n",
    "La dérivée seconde d'une fonction u(x) en un point x est donnée par :\n",
    "\n",
    "$u''(x) \\approx \\frac{u(x + \\Delta x) - 2u(x) + u(x - \\Delta x)}{\\Delta x{2}} $\n",
    "\n"
   ]
  },
  {
   "cell_type": "code",
   "execution_count": null,
   "id": "ZHkzzEqWYPGX",
   "metadata": {
    "id": "ZHkzzEqWYPGX"
   },
   "outputs": [],
   "source": []
  },
  {
   "cell_type": "markdown",
   "id": "cea04613",
   "metadata": {
    "id": "cea04613"
   },
   "source": [
    "### **Application :** Equation d'onde en 2D"
   ]
  },
  {
   "cell_type": "markdown",
   "id": "03e047b8",
   "metadata": {
    "id": "03e047b8"
   },
   "source": [
    "L'expression générale de l'équation d'onde s'écrit de la manière suivante :\n",
    "\n",
    "$$u_{tt} - c^2 \\Delta u = f$$"
   ]
  },
  {
   "cell_type": "markdown",
   "id": "de7839a4",
   "metadata": {
    "id": "de7839a4"
   },
   "source": [
    "On s'interesse à l'équation d'onde en 2D définie sur un domaine spacial de taille $L \\times L$ et un domaine temporel de durée T comme suit :\n",
    "\n",
    "$$\\frac{\\partial^{2} u}{\\partial t^2}(x,y,t) - c^{2} (\\frac{\\partial^{2} u}{\\partial x^2}(x,y,t) + \\frac{\\partial^{2} u}{\\partial y^2}(x,y,t)) = f(x,y,t) $$\n",
    "\n",
    "\n",
    "Où \n",
    "\n",
    "**u(x,y,t)** représente l'amplitude de l'onde\n",
    "\n",
    "**c** la vitesse de propagation de l'onde\n",
    "\n",
    "**f(x,y,t)** représente le terme source "
   ]
  },
  {
   "cell_type": "markdown",
   "id": "ded9d061",
   "metadata": {
    "id": "ded9d061"
   },
   "source": [
    "Conditions aux limites (Réfléchissant)\n",
    "\n",
    "$u(0,y,t) = 0 , u(L,y,t)=0$\n",
    "\n",
    "$u(x,0,t) = 0 , u(0,L,t)=0$\n",
    "\n",
    "Condition initiale\n",
    "\n",
    "u(x,y,0) = g(x,y)\n"
   ]
  },
  {
   "cell_type": "markdown",
   "id": "L161nvwkm-oA",
   "metadata": {
    "id": "L161nvwkm-oA"
   },
   "source": [
    "On discrétise le domaine spacial de taille $L \\times L$ en une grille de $N \\times N$ points tel que $x_{i} = i L/N$ et $y_{j} = j L/N$ avec i=0,...,N-1, j=0,...,N-1 \n",
    "\n",
    "On fait de même avec le domaine temporel de durée T en M points tel que $t_{k} = k T/M$ avec k=0,...,M-1"
   ]
  },
  {
   "cell_type": "markdown",
   "id": "9c6d7731",
   "metadata": {
    "id": "9c6d7731"
   },
   "source": [
    "$\\frac{u^{n+1}_{i,j} - 2u^n_{i,j} + u^{n-1}_{i,j}}{\\Delta t^2} = c^{2}(\\frac{u^n_{i+1,j} - 2u^n_{i,j} + u^n_{i-1,j}}{\\Delta x^2} + \\frac{u^n_{i,j+1} - 2u^n_{i,j} + u^n_{i,j-1}}{\\Delta y^2}) + f_{i,j}^{n}$"
   ]
  },
  {
   "cell_type": "markdown",
   "id": "d01affba",
   "metadata": {
    "id": "d01affba"
   },
   "source": [
    "$u^{n+1}_{i,j} = 2u^n_{i,j} - u^{n-1}_{i,j} + \\frac{c^2 \\Delta t^2}{\\Delta x^2} (u^n_{i+1,j} + u^n_{i-1,j} + u^n_{i,j+1} + u^n_{i,j-1} - 4u^n_{i,j}) + \\Delta t^2 f_{i,j}^{n}$"
   ]
  },
  {
   "cell_type": "markdown",
   "id": "VkbXdyvDhsnk",
   "metadata": {
    "id": "VkbXdyvDhsnk"
   },
   "source": [
    "L'implémentation de cette méthode donne alors"
   ]
  },
  {
   "cell_type": "code",
   "execution_count": null,
   "id": "b9b8dece",
   "metadata": {
    "id": "b9b8dece"
   },
   "outputs": [],
   "source": [
    "import matplotlib\n",
    "import numpy as np\n",
    "import matplotlib.pyplot as plt\n",
    "from mpl_toolkits.mplot3d import Axes3D\n",
    "\n",
    "plt.switch_backend('TkAgg') \n",
    "\n",
    "#Define domain size and constant\n",
    "Lx = 10\n",
    "Ly = 10\n",
    "dx = 0.1\n",
    "dy = dx\n",
    "nx = int(Lx / dx)\n",
    "ny = int(Ly / dy)\n",
    "x = np.linspace(0, Lx, nx)\n",
    "y = np.linspace(0, Ly, ny)\n",
    "T = 10\n",
    "un = np.zeros((nx, ny, 3))\n",
    "CFL = 0.3\n",
    "c = 1\n",
    "dt = CFL * dx / c\n",
    "k = 1\n",
    "T1 = np.arange(0, T + dt, dt)\n",
    "\n",
    "\n",
    "fig = plt.figure()  \n",
    "ax1 = fig.add_subplot(2, 1, 1)  \n",
    "\n",
    "\n",
    "for k in range(1, len(T1)):\n",
    "    #Reflecting Boundaries conditions\n",
    "    un[:, [0, -1], :] = 0\n",
    "    un[[0, -1], :, :] = 0\n",
    "\n",
    "    un[:, :, 0] = un[:, :, 1]\n",
    "    un[:, :, 1] = un[:, :, 2]\n",
    "\n",
    "    #Source initialization\n",
    "    un[0, 50, 1] = 20 * np.sin(30 * np.pi * T1[k] / 20)\n",
    "\n",
    "    #Loop over the numerical scheme\n",
    "    for i in range(1, nx - 1):\n",
    "        for j in range(1, ny - 1):\n",
    "            un[i, j, 2] = 2 * un[i, j, 1] - un[i, j, 0] + CFL ** 2 * (\n",
    "                un[i + 1, j, 1] - 4 * un[i, j, 1] + un[i - 1, j, 1] + un[i, j + 1, 1] + un[i, j - 1, 1]\n",
    "            )\n",
    "    \n",
    "    #Plot wave propagation over time\n",
    "    ax1.clear()\n",
    "    A = un[:, :, 1]\n",
    "    ax1.imshow(A.T, origin=\"lower\", extent=[0, Lx, 0, Ly], cmap=\"jet\", vmin=-6, vmax=6)\n",
    "    ax1.set_title(\"t={:.2f}\".format(T1[k]))\n",
    "    ax1.set_xlabel(\"x\")\n",
    "    ax1.set_ylabel(\"y\")\n",
    "\n",
    "    \n",
    "\n",
    "    fig.canvas.draw()\n",
    "    plt.pause(0.01)\n",
    "\n",
    "plt.show()"
   ]
  },
  {
   "cell_type": "code",
   "execution_count": null,
   "id": "9869edc8",
   "metadata": {
    "id": "9869edc8"
   },
   "outputs": [],
   "source": []
  },
  {
   "cell_type": "markdown",
   "id": "fcbf44b2",
   "metadata": {
    "id": "fcbf44b2"
   },
   "source": [
    "### Méthode pseudo-spectrale"
   ]
  },
  {
   "cell_type": "markdown",
   "id": "PxfXIsCtbu5o",
   "metadata": {
    "id": "PxfXIsCtbu5o"
   },
   "source": [
    "La méthode pseudospectrale est une méthode numérique utilisée pour résoudre des équations aux dérivées partielles (EDP). C'est une méthode hybride qui combine la méthode des différences finies et la méthode spectrale. Elle s'appuie sur l'idée de discrétiser le domaine et de représenter la solution de l'EDP comme une somme de fonctions de base. Les fonctions de base sont choisies orthogonales, ce qui signifie qu'elles ne sont pas corrélées entre elles. Ceci permet de calculer très efficacement la solution de l'EDP.\n",
    "\n",
    "Les principales méthodes pseudospectrales sont :\n",
    "\n",
    "**Méthode pseudospectrale de Fourier :** Cette méthode utilise la transformée de Fourier pour représenter la solution de la PDE. La transformée de Fourier est un outil puissant pour représenter des fonctions périodiques.\n",
    "\n",
    "**Méthode pseudospectrale de Chebyshev :** Cette méthode utilise les polynômes de Chebyshev pour représenter la solution de la PDE. Les polynômes de Chebyshev sont une famille de polynômes orthogonaux bien adaptés à la représentation de fonctions lisses.\n",
    "\n",
    "**Méthode pseudospectrale de Legendre :** Cette méthode utilise les polynômes de Legendre pour représenter la solution de l'EDP. Les polynômes de Legendre sont une famille de polynômes orthogonaux bien adaptés pour représenter des fonctions lisses qui ont des conditions aux limites de Dirichlet."
   ]
  },
  {
   "cell_type": "markdown",
   "id": "334d829e",
   "metadata": {
    "id": "334d829e"
   },
   "source": [
    "**Rappels**\n",
    "\n",
    "Transformée de fourier\n",
    "\n",
    "$U(k) = \\int_{-\\infty}^{\\infty} u(x) \\, e^{-i kx} \\, dx$  (Continue)\n",
    "\n",
    "$U[k] = \\sum_{n=0}^{N-1} u[n]e^{-j\\frac{2\\pi}{N}kn}, \\quad k = 0, 1, 2, \\ldots, N-1$ (Discrète)\n",
    "\n",
    "Transformée de fourier inverse\n",
    "\n",
    "$u(x) = \\int_{-\\infty}^{\\infty} U(k) \\, e^{i kx} \\, dx$ (Continue)\n",
    "\n",
    "$u[n] = \\frac{1}{N} \\sum_{k=0}^{N-1} U[k] e^{j\\frac{2\\pi}{N}kn}, \\quad n = 0, 1, 2, \\ldots, N-1$ (Discrète)\n",
    "\n",
    "La transformée de Fourier de la m-ième dérivée d'une fonction u(x) est notée $U^{(m)}(k)$ et peut être calculée comme :\n",
    "\n",
    "$U^{(m)}(k) = TF[\\frac{\\partial^{m} u}{\\partial x^{m}}](k)= (-ik)^m U(k)$"
   ]
  },
  {
   "cell_type": "markdown",
   "id": "7d725240",
   "metadata": {
    "id": "7d725240"
   },
   "source": [
    "### **Application :** Equation de la chaleur en 1D"
   ]
  },
  {
   "cell_type": "markdown",
   "id": "a827cf0c",
   "metadata": {
    "id": "a827cf0c"
   },
   "source": [
    "L'expression générale de l'équation de la chaleur s'écrit de la manière suivante :\n",
    "\n",
    "\n",
    "\n",
    "On s'interesse à l'équation de chaleur en 1D définie sur un domaine spacial de taille L et un domaine temporel de durée T comme suit :\n",
    "\n",
    "$$\\frac{\\partial u}{\\partial t}(x,t) = \\nu \\frac{\\partial^{2} u}{\\partial x^{2}}(x,t)$$\n",
    "\n",
    "Où \n",
    "\n",
    "**u(x,t)** représente le champ de chaleur \n",
    "\n",
    "**$\\nu$** est la capacité d'un matériau à transférer la chaleur\n",
    "\n",
    "\n",
    "\n",
    "Condition aux bords\n",
    "\n",
    "$u(0,t) = 0 , u(L,t)=0$\n",
    "\n",
    "Condition initiale\n",
    "\n",
    "$u(x,0)=f(x)$\n",
    "\n",
    "On suppose la solution de l'équation de la forme suivante:\n",
    "\n",
    "$$u(x,t) = \\sum_{n} \\hat u_{n}(t) \\Phi_{n}(x)$$\n",
    "\n",
    "Avec \n",
    "\n",
    "$\\hat u_{n}(t)$ un ensemble de poids à déterminer \n",
    "\n",
    "$\\Phi_{n}(x) = e^{2 \\pi i n x/L}$ un emsemble de fonctions formant une base orthogonale\n",
    "\n",
    "La solution s'écrit alors\n",
    "\n",
    "$$u(x,t) = \\sum_{n} \\hat u_{n}(t) e^{2 \\pi i n x/L}$$\n",
    "\n",
    "En remplaçant $u(x,t)=\\sum_{n} \\hat u_{n}(t) e^{2 \\pi i n x/L}$ dans l'EDP à résoudre on écrit \n",
    "\n",
    "$\\sum_{n} \\frac{\\partial \\hat u_{n}(t)}{\\partial t} e^{2 \\pi i n x/L} = \\nu \\sum_{n}(2 \\pi i n/L)^{2} \\hat u_{n}(t) e^{2 \\pi i n x/L}$\n",
    "\n",
    "$\\sum_{n}[ \\frac{\\partial \\hat u_{n}(t)}{\\partial t} - \\nu (2 \\pi i n/L)^{2} \\hat u_{n}(t)] e^{2 \\pi i n x/L} = 0$\n",
    "\n",
    "Les fonctions $\\Phi_{n}(x) = e^{2 \\pi i n x/L}$  forment une base orthogonale sur le domaine spacial alors on ne peut pas écrire ces fonctions comme combinaison linéaire\n",
    "\n",
    "$\\frac{\\partial \\hat u_{n}(t)}{\\partial t} - \\nu (2 \\pi i n/L)^{2} \\hat u_{n}(t) = 0$\n",
    "\n",
    "On obtient une EDO dépendante du temps t\n",
    "\n",
    "$\\frac{\\partial \\hat u_{n}(t)}{\\partial t} = \\nu (2 \\pi i n/L)^{2} \\hat u_{n}(t)$\n",
    "\n",
    "On discrétise le domaine temporel de taille T avec une grille temporelle de N points avec un pas $\\Delta t = T/N$ tel que $t_{k} = k\\Delta t = k T/N$ afin d'approximer la derivée temporelle par :\n",
    "\n",
    "$\\frac{\\partial \\hat u_{n}(t_{k+1})}{\\partial t} = \\frac{\\hat u_{n}(t_{k+1}) - \\hat u_{n}(t_{k})}{\\Delta t}$\n",
    "\n",
    "On peut alors écrire\n",
    "\n",
    "$\\hat u_{n}(t_{k+1}) = \\hat u_{n}(t_{k}) - \\Delta t \\nu (2 \\pi i n/L)^{2} \\hat u_{n}(t_{k})$ pour k=0,...N-1\n",
    "\n",
    "La solution recherchée est obtenue en calculant la transformée de fourier inverse des $\\hat u_{n}(t_{k})$"
   ]
  },
  {
   "cell_type": "markdown",
   "id": "zJM0mwrMjBCH",
   "metadata": {
    "id": "zJM0mwrMjBCH"
   },
   "source": [
    "La méthode reste stable pour $\\Delta t \\leq \\frac{\\Delta x^{2}}{2 \\nu}$"
   ]
  },
  {
   "cell_type": "markdown",
   "id": "ISmIjpbWbRG1",
   "metadata": {
    "id": "ISmIjpbWbRG1"
   },
   "source": [
    "L'implémentation de la méthode donne"
   ]
  },
  {
   "cell_type": "code",
   "execution_count": 1,
   "id": "4d328528",
   "metadata": {
    "id": "4d328528"
   },
   "outputs": [],
   "source": [
    "import numpy as np\n",
    "import matplotlib.pyplot as plt\n",
    "from matplotlib.animation import FuncAnimation\n",
    "\n",
    "plt.switch_backend('TkAgg')\n",
    "\n",
    "# Define domain size and constants\n",
    "L = 1.0\n",
    "Nx = 100\n",
    "dx = L / Nx\n",
    "dt = 0.0001\n",
    "nu = 0.1\n",
    "\n",
    "# Define the initial condition\n",
    "u = np.zeros(Nx)\n",
    "x = np.linspace(0, L, Nx)\n",
    "u = np.sin(np.pi * x) * np.exp(-100 * (x - 0.5) ** 2)\n",
    "\n",
    "# Define the Fourier wave numbers\n",
    "kx = np.fft.fftfreq(Nx, d=dx)\n",
    "\n",
    "# Define the spectral filter\n",
    "F = np.exp((kx**2) * dt)\n",
    "\n",
    "# Set up the plotting\n",
    "fig1D = plt.figure(figsize=(6, 4))\n",
    "ax1D = fig1D.add_subplot(111)\n",
    "line1D, = ax1D.plot(x, u, color='blue')\n",
    "ax1D.set_title('1D Heat Equation')\n",
    "ax1D.set_xlabel('x')\n",
    "ax1D.set_ylabel('u')\n",
    "ax1D.set_xlim(0, L)\n",
    "ax1D.set_ylim(-1, 1)\n",
    "\n",
    "# Define the second derivative function\n",
    "def second_derivative(u, dx):\n",
    "    d2u = -2 * u\n",
    "    d2u[1:-1] += u[:-2]\n",
    "    d2u[1:-1] += u[2:]\n",
    "    return d2u / dx**2\n",
    "\n",
    "# Define the time evolution function\n",
    "def evolve(i):\n",
    "    global u\n",
    "    # Compute the Fourier transform of u\n",
    "    U = np.fft.fft(u)\n",
    "\n",
    "    # Apply the basis functions to U\n",
    "    U *= F\n",
    "\n",
    "    # Compute the inverse Fourier transform of U\n",
    "    u_new = np.real(np.fft.ifft(U))\n",
    "\n",
    "    # Apply the diffusion operator\n",
    "    u_new += nu * dt * second_derivative(u_new, dx)\n",
    "\n",
    "    # Update the solution\n",
    "    u[:] = u_new[:]\n",
    "\n",
    "    # Update the 1D plot\n",
    "    line1D.set_ydata(u)\n",
    "    ax1D.set_title(f'Time = {i * dt:.6f}')\n",
    "\n",
    "# Set up the animation\n",
    "max_time = 2.0\n",
    "anim = FuncAnimation(fig1D, evolve, frames=int(max_time/dt), interval=10)\n",
    "\n",
    "# Show the animation\n",
    "plt.show()\n"
   ]
  },
  {
   "cell_type": "markdown",
   "id": "El0WLWnZZl0k",
   "metadata": {
    "id": "El0WLWnZZl0k"
   },
   "source": [
    "### Méthode des Volumes finis"
   ]
  },
  {
   "cell_type": "markdown",
   "id": "BaYi9nDHqA3P",
   "metadata": {
    "id": "BaYi9nDHqA3P"
   },
   "source": [
    "![mvf.png](data:image/png;base64,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)"
   ]
  },
  {
   "cell_type": "markdown",
   "id": "JIn0g18r2fGs",
   "metadata": {
    "id": "JIn0g18r2fGs"
   },
   "source": [
    "![mvf2.png](data:image/png;base64,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)"
   ]
  },
  {
   "cell_type": "markdown",
   "id": "e3s4Ecpj19jx",
   "metadata": {
    "id": "e3s4Ecpj19jx"
   },
   "source": [
    "\n",
    "\n",
    "*   Variation de la méthode des différences finies\n",
    "*   Les noeuds sont définis à l'intérieur de l'élément et non aux extrémités. Ce qui permet de représenter des géométries beaucoup plus complexes\n",
    "\n",
    "**Étapes de résolution** :\n",
    "  * Discrétisation ou maillage\n",
    "  * Intégration de l'équation différentielle sur le volume élémentaire $\\Delta V$\n",
    "  * Résolution du système d'équations\n",
    "\n",
    "**Application(1D)** :\n",
    "  Résolution d'un problème de conduction thermique suivant une seule direction définie par $\\frac{\\partial^{2}T}{\\partial x^{2}} = 0$ avec conditions aux limites $T(0) = T_{a}$ et $T(L) = T_{b}$\n",
    "\n",
    "**Exercice**\n",
    "  Résoudre le problème de diffusion dont l'équation est \n",
    "  donnée par :\n",
    "    $\\frac{\\partial u}{\\partial t} = \\frac{\\partial^{2} u}{\\partial x^{2}} - e^{-t}(sin(\\pi x) - \\pi^{2}sin(\\pi x))$ \n",
    "\n",
    "  avec $x \\in [-1, 1]$ et $t \\in [0,1[$\n",
    "\n"
   ]
  },
  {
   "cell_type": "code",
   "execution_count": null,
   "id": "2XuFKweqp_ks",
   "metadata": {
    "id": "2XuFKweqp_ks"
   },
   "outputs": [],
   "source": [
    "import numpy as np\n",
    "import matplotlib.pyplot as plt\n",
    "\n",
    "dx = 0.1 # step on x\n",
    "xs = np.arange(-1, 1+dx, dx) # x coordinates\n",
    "\n",
    "CFL = 0.9  # courant-friedricks-lewy number\n",
    "dt = dx * CFL # dt/dx shoulb be less than CFL\n",
    "t_end = np.arange(0, 1-dt, dt) # time\n",
    "\n",
    "sol = np.zeros((xs.shape[0], 2)) # solution matrix\n",
    "\n",
    "# initial conditions\n",
    "sol[:, 0] = np.sin(np.pi*xs)\n",
    "fig = plt.figure(figsize=(12,5))\n",
    "ax = fig.add_subplot(1, 2, 1)\n",
    "ax.set_title(\"Finite Volume Method\")\n",
    "ax2 = fig.add_subplot(1, 2, 2)\n",
    "ax2.set_title(\"Analytical solution\")\n",
    "\n",
    "for i in range(1, len(t_end)):\n",
    "\tsol[[-1,0], :] = 0\n",
    "\t\n",
    "\t# finite volume scheme\n",
    "\tfor j in range(1, len(xs)-1):\n",
    "\t\texpo = (1/np.pi)*np.exp(-t_end[i])*(np.cos(np.pi*(xs[j] + dx/2))-np.cos(np.pi*(xs[j] -dx/2)) - np.pi**2*(np.cos(np.pi*(xs[j] + dx/2)) - np.cos(np.pi*(xs[j]-dx/2))))\n",
    "\t\tsol[j, 1] = ((sol[j+1,0]-2*sol[j,0] + sol[j-1,0])/(dx**2) + (expo/dx))*dt + sol[j,0]\n",
    "\t\t\n",
    "\tax.plot(xs, sol[:, 0])\n",
    "\tsol[:, 0] = sol[:, 1]\n",
    "\n",
    "for i in range(0, len(t_end)):\n",
    "\ttemp = np.exp(-t_end[i]) * np.sin(np.pi*xs)\n",
    "\tax2.plot(xs, temp)\n",
    "\t\n",
    "plt.show()"
   ]
  },
  {
   "cell_type": "markdown",
   "id": "YEmbzP-7nug2",
   "metadata": {
    "id": "YEmbzP-7nug2"
   },
   "source": [
    "### Méthode des lignes(MDL)\n",
    "\n",
    "https://en.wikipedia.org/wiki/Method_of_lines#/media/File:Method_of_lines.gif\n",
    "\n",
    "La méthode des lignes(method of lines[MOL] en anglais) est une méthode numérique de résolution d'EDPs dépendante du temps.\n",
    "\n",
    "L'idée ici est de discrétiser les variables spatiales pour n'avoir plus qu'une équation dépendant uniquement du temps. \n",
    "\n",
    "On passe alors d'une EDP à un système d'EDOs $$ \\frac{\\partial u}{\\partial t} = f(t, u(t))$$ où $u_{t} \\in \\mathbb{R}^{n}$.\n",
    "\n",
    "Vous l'aurez compris, le plus \"gros\" travail ici sera de discrétiser les variables spatiales.\n",
    "\n",
    "Bien heureusement, la tâche est vite résolue parce que la MDL s'inspire des méthodes numériques déjà bien connues pour pouvoir procéder à cette discrétisation comme la méthode des différences finies. \n",
    "\n",
    "[DON'T SAY IT, SHOW IT !!!]\n"
   ]
  },
  {
   "cell_type": "markdown",
   "id": "O0ihkjdKoGzo",
   "metadata": {
    "id": "O0ihkjdKoGzo"
   },
   "source": [
    "Ex : \n",
    "  Soit l'équation \n",
    "\n",
    "  $\n",
    "    \\frac{\\partial u}{\\partial t} + v\\frac{\\partial u}{\\partial x} = 0\n",
    "  $\n",
    "  avec $u(x,0) = f$\n",
    "\n",
    "\n",
    "  Étape 1 : Discrétisation de l'espace\n",
    "\n",
    "    Par l'approximation arrière de la méthode des différences finies, on a :\n",
    "     \n",
    "  $$\n",
    "   \\frac{\\partial u_{i}}{\\partial x} = \\frac{u_{i+1} - u_{i}}{\\Delta x}\n",
    "  $$\n",
    "\n",
    "  Étape 2 : Plugger la discrétisation dans mon équation de départ\n",
    "\n",
    "    On obtient alors :\n",
    "\n",
    "  \\begin{align}\n",
    "        \\begin{pmatrix}\n",
    "          u'_{1}(t) \\\\\n",
    "          u'_{2}(t) \\\\\n",
    "          . \\\\\n",
    "          . \\\\\n",
    "          . \\\\\n",
    "          u'_{n}(t)\n",
    "        \\end{pmatrix} = \\begin{pmatrix}\n",
    "        -v\\frac{u_{1} - u_{0}}{\\Delta x} \\\\\n",
    "        -v\\frac{u_{2} - u_{1}}{\\Delta x} \\\\\n",
    "        . \\\\\n",
    "        . \\\\\n",
    "        . \\\\\n",
    "        -v\\frac{u_{n} - u_{n-1}}{\\Delta x}\n",
    "        \\end{pmatrix}\n",
    "    \\end{align}\n",
    "\n",
    "  $\\Longleftrightarrow$\n",
    "\n",
    "  \\begin{align}\n",
    "        \\begin{pmatrix}\n",
    "          \\frac{u_{1} - u_{0}}{\\Delta t} \\\\\n",
    "          \\frac{u_{2} - u_{1}}{\\Delta t} \\\\\n",
    "          . \\\\\n",
    "          . \\\\\n",
    "          . \\\\\n",
    "          \\frac{u_{n} - u_{n-1}}{\\Delta t}\n",
    "        \\end{pmatrix} = \\begin{pmatrix}\n",
    "        -v\\frac{u_{1} - u_{0}}{\\Delta x} \\\\\n",
    "        -v\\frac{u_{2} - u_{1}}{\\Delta x} \\\\\n",
    "        . \\\\\n",
    "        . \\\\\n",
    "        . \\\\\n",
    "        -v\\frac{u_{n} - u_{n-1}}{\\Delta x}\n",
    "        \\end{pmatrix}\n",
    "    \\end{align}\n",
    "  \n",
    "\n",
    "  Étape 3 : Résoudre l'EDO (en utilisant la méthode d'Euler par exemple)\n",
    "________________\n",
    "\n",
    "Exo : Donner l'expression en système d'EDOs de l'EDP ci-dessous:\n",
    "  $$\n",
    "    \\frac{\\partial^{2} u}{\\partial t^2} - \\alpha \\frac{\\partial^{2} u}{\\partial x^2} = 0\n",
    "  $$\n",
    "\n",
    "  avec  $ u(x,0) = e^{-20(x-0.5)^{2}} $"
   ]
  }
 ],
 "metadata": {
  "colab": {
   "provenance": []
  },
  "kernelspec": {
   "display_name": "Python 3 (ipykernel)",
   "language": "python",
   "name": "python3"
  },
  "language_info": {
   "codemirror_mode": {
    "name": "ipython",
    "version": 3
   },
   "file_extension": ".py",
   "mimetype": "text/x-python",
   "name": "python",
   "nbconvert_exporter": "python",
   "pygments_lexer": "ipython3",
   "version": "3.9.16"
  }
 },
 "nbformat": 4,
 "nbformat_minor": 5
}
